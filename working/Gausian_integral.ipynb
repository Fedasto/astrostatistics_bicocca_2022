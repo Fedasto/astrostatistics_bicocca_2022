{
 "cells": [
  {
   "cell_type": "markdown",
   "metadata": {},
   "source": [
    "# A gaussian integral"
   ]
  },
  {
   "cell_type": "markdown",
   "metadata": {},
   "source": [
    "Using Monte Carlo integration, check that\n",
    "\n",
    "$$ \\int_0^\\infty x^3 \\exp\\left(-\\frac{x^2}{2\\sigma^2}\\right) \\,dx = 2\\sigma^4 .$$\n",
    "\n",
    "- Does the result converge with the number of samples? And how does the error go down?\n",
    "- Do it many times. For a given $N$, how are the result distributed? We'll talk about model fitting at lenght later on, but for now try to fit it by hand with a parametrized model. (If N is large enough you should get something that looks *very* accurate!)\n",
    "- How does the distribution change if $N$ increases?\n",
    "\n",
    "(Hint: think about sample mean and sample variance)"
   ]
  },
  {
   "cell_type": "code",
   "execution_count": 3,
   "metadata": {},
   "outputs": [],
   "source": [
    "import numpy as np\n",
    "import matplotlib.pyplot as plt\n",
    "from scipy.stats import norm\n",
    "from tqdm.auto import tqdm\n",
    "from astroML import stats as astroMLstats"
   ]
  },
  {
   "cell_type": "markdown",
   "metadata": {},
   "source": [
    "I define a first function which takes the number of random sample (N) and a (random) sigma and return the integral, the knownresult and the relative error between them. The integral is computed using th definition of Montecarlo Inegration Method.\n",
    "\n",
    "Note: $$p(x) = \\frac{2}{\\sigma\\sqrt{2\\pi}} \\exp\\left(-\\frac{x^2}{2\\sigma^2}\\right)$$\n",
    "\n",
    "which correctly gives $\\int_0^\\infty p(x) =1$. My integral then becomes\n",
    "\n",
    "$$I = \\sigma\\sqrt\\frac{\\pi}{2} \\int_0^\\infty x^3 p(x) dx $$"
   ]
  },
  {
   "cell_type": "code",
   "execution_count": 4,
   "metadata": {},
   "outputs": [],
   "source": [
    "def integral(N,sigma):\n",
    "    global I,knownresult, abs_err\n",
    "    '''x=np.random.normal(0,sigma,N)\n",
    "    x_grid=np.linspace(np.min(x)-2,np.max(x)+2,N)\n",
    "    \n",
    "    plt.figure(figsize=[8,8])\n",
    "    plt.hist(x, bins=50, fill=False, density=True)\n",
    "    plt.plot(x_grid, norm(loc=0,scale=sigma).pdf(x_grid), color='red', label='gaussian') # PDF=prob density function\n",
    "    plt.legend(loc='best')\n",
    "    \n",
    "    plt.figure(figsize=[8,8])\n",
    "    plt.hist(np.abs(x), bins=50, fill=False, density=True)\n",
    "    plt.plot(np.abs(x_grid), np.abs(2*norm(loc=0,scale=sigma).pdf(x_grid)), color='red', label='half gaussian') # it requires the 2 in order to satisfy the double counting\n",
    "    '''\n",
    "    samples = np.abs(norm(loc=0,scale=sigma).rvs(N)) #RVS=randomvariates\n",
    "    I = sigma*(np.pi/2)**0.5 * np.mean(samples**3) # montecarlo application\n",
    "    knownresult= 2*sigma**4 \n",
    "    abs_err=np.abs(I-knownresult)/knownresult\n",
    "    \n",
    "    #print(r'Montecarlo result = %1.3f vs known result $2\\sigma^{4}$ = %1.3f ' % (I,knownresult), 'absolute error= ', abs_err)\n",
    "    return (I, knownresult, abs_err  )"
   ]
  },
  {
   "cell_type": "code",
   "execution_count": 5,
   "metadata": {},
   "outputs": [
    {
     "name": "stderr",
     "output_type": "stream",
     "text": [
      "<ipython-input-5-13c804d96893>:1: DeprecationWarning: This function is deprecated. Please call randint(0, 10 + 1) instead\n",
      "  sigma=int(np.random.random_integers(0,10,1))\n"
     ]
    }
   ],
   "source": [
    "sigma=int(np.random.random_integers(0,10,1)) \n",
    "N=np.arange(1e3,1e6,3e4) #[1e3,2e3,3e3,5e3,7e3,1e4, 3e4, 5e4,8e4,1e5, 5e5, 9e5,1e6,1e7,1e8]"
   ]
  },
  {
   "cell_type": "markdown",
   "metadata": {},
   "source": [
    "I call the previus function passing different values for N and sigma"
   ]
  },
  {
   "cell_type": "code",
   "execution_count": 6,
   "metadata": {},
   "outputs": [],
   "source": [
    "def distribution(N,sigma):\n",
    "    global rsult\n",
    "    \n",
    "    result=[]\n",
    "    knownres=[]\n",
    "    error=[]\n",
    "       \n",
    "    for temp in range(len(N)):\n",
    "        integral(int(N[temp]),sigma)\n",
    "        result.append(I)\n",
    "        knownres.append(knownresult)\n",
    "        error.append(abs_err)\n",
    "    \n",
    "    \n",
    "    '''plt.figure(figsize=[8,8])\n",
    "    plt.xscale('log')\n",
    "    plt.scatter(N,result, color='black')\n",
    "    plt.plot(N,result, color='black', linestyle='--')\n",
    "    plt.hlines(knownres,np.min(N),np.max(N), color='red', label=r'$2\\sigma^{4}$')\n",
    "    plt.legend(loc='best')  \n",
    "    plt.title('result of the integral with MC method')  \n",
    "    \n",
    "    x_grid=np.linspace(990,1e8,100000)\n",
    "    plt.figure(figsize=[8,8])\n",
    "    plt.xscale('log')\n",
    "    plt.scatter(N,error, color='black')\n",
    "    plt.plot(N,error, color='black', linestyle='--')\n",
    "    plt.plot(x_grid,1/np.sqrt(x_grid),color='red', label=r'$frac{1}{\\sqrt{N}}$')\n",
    "    plt.title('integral absolute error')\n",
    "    plt.legend(loc='best')'''\n",
    "        \n",
    "    \n",
    "\n",
    "    return (result)\n"
   ]
  },
  {
   "cell_type": "markdown",
   "metadata": {},
   "source": [
    "In cocnlusion I call 1000 times the last function and plot the results"
   ]
  },
  {
   "cell_type": "code",
   "execution_count": 13,
   "metadata": {},
   "outputs": [
    {
     "data": {
      "application/vnd.jupyter.widget-view+json": {
       "model_id": "d6eb0c708f294123946f5a372a974f25",
       "version_major": 2,
       "version_minor": 0
      },
      "text/plain": [
       "  0%|          | 0/1000 [00:00<?, ?it/s]"
      ]
     },
     "metadata": {},
     "output_type": "display_data"
    },
    {
     "ename": "IndexError",
     "evalue": "index 999 is out of bounds for axis 0 with size 34",
     "output_type": "error",
     "traceback": [
      "\u001b[0;31m---------------------------------------------------------------------------\u001b[0m",
      "\u001b[0;31mIndexError\u001b[0m                                Traceback (most recent call last)",
      "\u001b[0;32m<ipython-input-13-5cc2c96dfa12>\u001b[0m in \u001b[0;36m<module>\u001b[0;34m\u001b[0m\n\u001b[1;32m      7\u001b[0m \u001b[0mindex_N\u001b[0m\u001b[0;34m=\u001b[0m\u001b[0mrealization\u001b[0m\u001b[0;34m-\u001b[0m\u001b[0;36m1\u001b[0m \u001b[0;31m#N=1000\u001b[0m\u001b[0;34m\u001b[0m\u001b[0;34m\u001b[0m\u001b[0m\n\u001b[1;32m      8\u001b[0m \u001b[0;34m\u001b[0m\u001b[0m\n\u001b[0;32m----> 9\u001b[0;31m \u001b[0mplt\u001b[0m\u001b[0;34m.\u001b[0m\u001b[0mhist\u001b[0m\u001b[0;34m(\u001b[0m\u001b[0mR\u001b[0m\u001b[0;34m[\u001b[0m\u001b[0;34m:\u001b[0m\u001b[0;34m]\u001b[0m\u001b[0;34m[\u001b[0m\u001b[0mindex_N\u001b[0m\u001b[0;34m]\u001b[0m\u001b[0;34m,\u001b[0m \u001b[0mdensity\u001b[0m\u001b[0;34m=\u001b[0m\u001b[0;32mTrue\u001b[0m\u001b[0;34m,\u001b[0m \u001b[0mfill\u001b[0m\u001b[0;34m=\u001b[0m\u001b[0;32mFalse\u001b[0m\u001b[0;34m,\u001b[0m \u001b[0mbins\u001b[0m\u001b[0;34m=\u001b[0m\u001b[0;36m100\u001b[0m\u001b[0;34m,\u001b[0m \u001b[0mlabel\u001b[0m\u001b[0;34m=\u001b[0m\u001b[0;34m'N=%1.0f'\u001b[0m \u001b[0;34m%\u001b[0m \u001b[0;34m(\u001b[0m\u001b[0mN\u001b[0m\u001b[0;34m[\u001b[0m\u001b[0mindex_N\u001b[0m\u001b[0;34m]\u001b[0m\u001b[0;34m)\u001b[0m\u001b[0;34m)\u001b[0m \u001b[0;31m#for a fixed N (the 5th N in th N-array)\u001b[0m\u001b[0;34m\u001b[0m\u001b[0;34m\u001b[0m\u001b[0m\n\u001b[0m\u001b[1;32m     10\u001b[0m \u001b[0mx_grid\u001b[0m\u001b[0;34m=\u001b[0m\u001b[0mnp\u001b[0m\u001b[0;34m.\u001b[0m\u001b[0mlinspace\u001b[0m\u001b[0;34m(\u001b[0m\u001b[0mnp\u001b[0m\u001b[0;34m.\u001b[0m\u001b[0mmin\u001b[0m\u001b[0;34m(\u001b[0m\u001b[0mR\u001b[0m\u001b[0;34m[\u001b[0m\u001b[0;34m:\u001b[0m\u001b[0;34m]\u001b[0m\u001b[0;34m[\u001b[0m\u001b[0mindex_N\u001b[0m\u001b[0;34m]\u001b[0m\u001b[0;34m)\u001b[0m\u001b[0;34m-\u001b[0m\u001b[0;36m10\u001b[0m\u001b[0;34m,\u001b[0m \u001b[0mnp\u001b[0m\u001b[0;34m.\u001b[0m\u001b[0mmax\u001b[0m\u001b[0;34m(\u001b[0m\u001b[0mR\u001b[0m\u001b[0;34m[\u001b[0m\u001b[0;34m:\u001b[0m\u001b[0;34m]\u001b[0m\u001b[0;34m[\u001b[0m\u001b[0mindex_N\u001b[0m\u001b[0;34m]\u001b[0m\u001b[0;34m)\u001b[0m\u001b[0;34m+\u001b[0m\u001b[0;36m10\u001b[0m\u001b[0;34m,\u001b[0m\u001b[0;36m100\u001b[0m\u001b[0;34m)\u001b[0m\u001b[0;34m\u001b[0m\u001b[0;34m\u001b[0m\u001b[0m\n\u001b[1;32m     11\u001b[0m \u001b[0mplt\u001b[0m\u001b[0;34m.\u001b[0m\u001b[0mplot\u001b[0m\u001b[0;34m(\u001b[0m\u001b[0mx_grid\u001b[0m\u001b[0;34m,\u001b[0m \u001b[0mnorm\u001b[0m\u001b[0;34m(\u001b[0m\u001b[0mloc\u001b[0m\u001b[0;34m=\u001b[0m\u001b[0mnp\u001b[0m\u001b[0;34m.\u001b[0m\u001b[0mmean\u001b[0m\u001b[0;34m(\u001b[0m\u001b[0mR\u001b[0m\u001b[0;34m[\u001b[0m\u001b[0;34m:\u001b[0m\u001b[0;34m]\u001b[0m\u001b[0;34m[\u001b[0m\u001b[0mindex_N\u001b[0m\u001b[0;34m]\u001b[0m\u001b[0;34m)\u001b[0m\u001b[0;34m,\u001b[0m \u001b[0mscale\u001b[0m\u001b[0;34m=\u001b[0m\u001b[0mastroMLstats\u001b[0m\u001b[0;34m.\u001b[0m\u001b[0msigmaG\u001b[0m\u001b[0;34m(\u001b[0m\u001b[0mR\u001b[0m\u001b[0;34m[\u001b[0m\u001b[0;34m:\u001b[0m\u001b[0;34m]\u001b[0m\u001b[0;34m[\u001b[0m\u001b[0mindex_N\u001b[0m\u001b[0;34m]\u001b[0m\u001b[0;34m)\u001b[0m\u001b[0;34m)\u001b[0m\u001b[0;34m.\u001b[0m\u001b[0mpdf\u001b[0m\u001b[0;34m(\u001b[0m\u001b[0mx_grid\u001b[0m\u001b[0;34m)\u001b[0m\u001b[0;34m,\u001b[0m \u001b[0mlabel\u001b[0m\u001b[0;34m=\u001b[0m\u001b[0;34mr'gaussian with $\\sigma_G$ and mean'\u001b[0m\u001b[0;34m,\u001b[0m \u001b[0mcolor\u001b[0m\u001b[0;34m=\u001b[0m\u001b[0;34m'red'\u001b[0m\u001b[0;34m)\u001b[0m \u001b[0;31m# sigma_G helps to avoids the histogram's outliyers\u001b[0m\u001b[0;34m\u001b[0m\u001b[0;34m\u001b[0m\u001b[0m\n",
      "\u001b[0;31mIndexError\u001b[0m: index 999 is out of bounds for axis 0 with size 34"
     ]
    }
   ],
   "source": [
    "realization=1000\n",
    "R=[]\n",
    "\n",
    "for temp in tqdm(range(realization)):\n",
    "    R.append(distribution(N,sigma))\n",
    "\n",
    "\n",
    "  "
   ]
  },
  {
   "cell_type": "markdown",
   "metadata": {},
   "source": [
    "Plot the results"
   ]
  },
  {
   "cell_type": "code",
   "execution_count": 24,
   "metadata": {},
   "outputs": [
    {
     "data": {
      "text/plain": [
       "<matplotlib.legend.Legend at 0x13d593bb0>"
      ]
     },
     "execution_count": 24,
     "metadata": {},
     "output_type": "execute_result"
    },
    {
     "data": {
      "image/png": "[encoded data removed]",
      "text/plain": [
       "<Figure size 432x288 with 1 Axes>"
      ]
     },
     "metadata": {
      "needs_background": "light"
     },
     "output_type": "display_data"
    }
   ],
   "source": [
    "index_N=33 # Choose which combination of sigma and N is better to visualize th result\n",
    "\n",
    "plt.hist(R[:][index_N], density=True, fill=False, bins=100, label='N=%1.0f' % (N[index_N])) #for a fixed N (the 5th N in th N-array)\n",
    "x_grid=np.linspace(np.min(R[:][index_N])-10, np.max(R[:][index_N])+10,100)\n",
    "plt.plot(x_grid, norm(loc=np.mean(R[:][index_N]), scale=astroMLstats.sigmaG(R[:][index_N])).pdf(x_grid), label=r'gaussian with $\\sigma_G$ and mean', color='red') # sigma_G helps to avoids the histogram's outliyers \n",
    "plt.plot(x_grid, norm(loc=np.mean(R[:][index_N]), scale=np.std(R[:][index_N])).pdf(x_grid), label='gaussian with $\\sigma$ and mean', color='orange')\n",
    "\n",
    "#median is a best estimateor since the presence of outlyers\n",
    "plt.plot(x_grid, norm(loc=np.median(R[:][index_N]), scale=astroMLstats.sigmaG(R[:][index_N])).pdf(x_grid), label=r'gaussian with $\\sigma_G$ and median', color='blue') # sigma_G helps to avoids the histogram's outliyers \n",
    "plt.plot(x_grid, norm(loc=np.median(R[:][index_N]), scale=np.std(R[:][index_N])).pdf(x_grid), label='gaussian with $\\sigma$ and median', color='yellow')\n",
    "\n",
    "plt.title('%1.0f Realizations' % (realization))\n",
    "plt.legend(loc='best')"
   ]
  },
  {
   "cell_type": "markdown",
   "metadata": {},
   "source": [
    "Note: Any function contain a commented plot that I use to check if the function works right. For computational reason I comments it."
   ]
  },
  {
   "cell_type": "code",
   "execution_count": null,
   "metadata": {},
   "outputs": [],
   "source": []
  }
 ],
 "metadata": {
  "kernelspec": {
   "display_name": "Python 3",
   "language": "python",
   "name": "python3"
  },
  "language_info": {
   "codemirror_mode": {
    "name": "ipython",
    "version": 3
   },
   "file_extension": ".py",
   "mimetype": "text/x-python",
   "name": "python",
   "nbconvert_exporter": "python",
   "pygments_lexer": "ipython3",
   "version": "3.8.5"
  }
 },
 "nbformat": 4,
 "nbformat_minor": 4
}
