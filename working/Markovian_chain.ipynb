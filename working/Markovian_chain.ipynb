{
 "cells": [
  {
   "cell_type": "markdown",
   "metadata": {},
   "source": [
    "# Planning a telescope observation\n",
    "\n",
    "Let's build our first Markov Chain together. \n",
    "\n",
    "You are a real astronomer (not a theorethical guy like me) and are planning an expensive observational campaign. You want to know how likely it is that tomorrow night will be clear given the weather tonight (clear or cloudy). The key piece of information here is that the weather tomorrow depends on the weather today. From past history, you know that:\n",
    "\n",
    "$$p({\\rm clear \\; tomorrow} \\, |\\,  {\\rm cloudy \\; today}) = 0.5,$$\n",
    "\n",
    "which means that\n",
    "\n",
    "$$p({\\rm cloudy \\; tomorrow} \\, |\\, {\\rm cloudy \\; today}) = 0.5.$$\n",
    "\n",
    "We also have\n",
    "\n",
    "$$p({\\rm cloudy \\; tomorrow} \\, |\\, {\\rm clear \\; today}) = 0.1,$$\n",
    "\n",
    "which means that\n",
    "\n",
    "$$p({\\rm clear \\; tomorrow} \\, |\\, {\\rm clear \\; today}) = 0.9.$$\n",
    "\n",
    "\n",
    "- We can start with the sky conditions today and make predictions going forward more and more into the future.\n",
    "- This will look like a big decision tree. \n",
    "- After enough days, we'll reach equilibrium probabilities that have to do with the mean weather statistics (ignoring seasons) and we'll arrive at\n",
    "\n",
    "$$p({\\rm clear}) = 0.83,$$\n",
    "\n",
    "and \n",
    "\n",
    "$$p({\\rm cloudy}) = 0.17.$$\n",
    "\n",
    "You get the same answer for day $N$ as day $N+1$ and it doesn't matter whether it was clear or cloudy on the day that you started. The steps that we have taken in this process are a **MARKOV CHAIN**.\n",
    "\n",
    "Here is an illustration of this process from an article in [towarddatascience.com](https://towardsdatascience.com/introduction-to-markov-chains-50da3645a50d).\n",
    "\n",
    "![image.png](https://miro.medium.com/max/416/1*frksGjINf5oTjx7WL81U3w.png)\n",
    "\n",
    "#### Tasks\n",
    "\n",
    "- Start off on a cloud day. \n",
    "- Implement your weather forecast based on the above probabilities\n",
    "- Run your simulator for N days (with $N\\gtrsim 10^4$)\n",
    "- Prepare a plot with the number of days on the x axis and the \"running average\" on the y axis (that is, the cumulative number of, say, sunny days over the number of days so far). This is called a **trace-plot**, showing how our estimate of $p(\\mathrm{clear})$ evolves as the chain samples.  \n",
    "- Prepare a histogram of the above plot. This reveals the distribution of $p(\\mathrm{clear})$. - Use a summary statistics to determine the most likely value and an error on our estimate.\n",
    "\n",
    "**Important:** \n",
    "- In MCMC the process must be **stationary** which basically means that the chain statistics look the same no matter which chunk you look at, e.g. first half, second half, or every other point, etc.  \n",
    "- Obviously that isn't going to be the case in the early steps of the chain. In our example above, after some time the process was stationary, but not in the first few days.\n",
    "- So, there is a **burn-in** phase that needs to be discarded. How one determines the number of early steps to discard as burn-in is tricky, but ***you should always start with a traceplot of your samples!!!***\n",
    "\n",
    "\n",
    "#### Tasks\n",
    "\n",
    "- In the above example, experiment with chopping off different numbers of initial points as burn-in."
   ]
  },
  {
   "cell_type": "code",
   "execution_count": 3,
   "metadata": {},
   "outputs": [],
   "source": [
    "import numpy as np\n",
    "import matplotlib.pyplot as plt\n",
    "from tqdm import tqdm\n",
    "from scipy.stats import norm\n",
    "from astroML.stats import sigmaG"
   ]
  },
  {
   "cell_type": "markdown",
   "metadata": {},
   "source": [
    "I use the following decision tree with binary chooseen, to have the forecast."
   ]
  },
  {
   "cell_type": "code",
   "execution_count": 4,
   "metadata": {},
   "outputs": [
    {
     "name": "stderr",
     "output_type": "stream",
     "text": [
      "100%|██████████| 100000/100000 [00:03<00:00, 28269.26it/s]\n"
     ]
    }
   ],
   "source": [
    "N=100000 # number of days\n",
    "today=[1] # 1 means cloud day\n",
    "\n",
    "'''prob_rain_given_rain = 0.5\n",
    "prob_sun_given_rain = 0.5\n",
    "prob_sun_given_sun = 0.9\n",
    "prob_rain_given_rain=0.1'''\n",
    "\n",
    "for i in tqdm(range(N)):\n",
    "    if today[i]==1:\n",
    "        tomorrow=np.random.randint(0,1,1)\n",
    "        today.append(tomorrow)\n",
    "        \n",
    "    elif today[i]==0:\n",
    "        tomorrow=np.random.randint(1,9,1)\n",
    "        \n",
    "        if tomorrow==1:\n",
    "            today.append(1)\n",
    "        else:\n",
    "            today.append(0)"
   ]
  },
  {
   "cell_type": "markdown",
   "metadata": {},
   "source": [
    "I compute the trace plot for the sunny days. Plotting the histogram of the same quantity I obtain a gaussian distribution with the mean as best estimate and correspondent $\\sigma_G$."
   ]
  },
  {
   "cell_type": "code",
   "execution_count": 5,
   "metadata": {},
   "outputs": [
    {
     "data": {
      "text/plain": [
       "(0.881, 0.896)"
      ]
     },
     "execution_count": 5,
     "metadata": {},
     "output_type": "execute_result"
    },
    {
     "data": {
      "image/png": "[encoded data removed]",
      "text/plain": [
       "<Figure size 432x288 with 1 Axes>"
      ]
     },
     "metadata": {
      "needs_background": "light"
     },
     "output_type": "display_data"
    },
    {
     "data": {
      "image/png": "[encoded data removed]",
      "text/plain": [
       "<Figure size 432x288 with 1 Axes>"
      ]
     },
     "metadata": {
      "needs_background": "light"
     },
     "output_type": "display_data"
    }
   ],
   "source": [
    "x_grid=np.linspace(0,N,N-1) # number of days \n",
    "\n",
    "sunny_day=0\n",
    "running_average=[]\n",
    "\n",
    "for j in range(1,N):\n",
    "    if today[j]==0:\n",
    "        sunny_day +=1\n",
    "        \n",
    "    running_average.append(sunny_day/j)\n",
    "\n",
    "plt.figure()\n",
    "plt.title('Trace plot - sunny days')\n",
    "plt.xlabel('day')\n",
    "plt.ylabel('running average')    \n",
    "plt.plot(x_grid, running_average, color='black')\n",
    "\n",
    "plt.figure()\n",
    "plt.hist(running_average,bins=350, density=True, histtype='step', label='sunny days')\n",
    "\n",
    "xx = np.linspace(0.85,0.91, 1000)\n",
    "plt.plot(xx, norm.pdf(xx, loc=np.median(running_average), scale=sigmaG(running_average)),'r-', label='norm pdf')\n",
    "plt.legend(loc='upper left')\n",
    "plt.xlim(0.881,0.896)"
   ]
  },
  {
   "cell_type": "markdown",
   "metadata": {},
   "source": [
    "Afer I tried some possible Burning index, I choose 1000 as the best. "
   ]
  },
  {
   "cell_type": "code",
   "execution_count": 10,
   "metadata": {},
   "outputs": [
    {
     "data": {
      "text/plain": [
       "(0.75, 0.9)"
      ]
     },
     "execution_count": 10,
     "metadata": {},
     "output_type": "execute_result"
    },
    {
     "data": {
      "image/png": "[encoded data removed]",
      "text/plain": [
       "<Figure size 432x288 with 1 Axes>"
      ]
     },
     "metadata": {
      "needs_background": "light"
     },
     "output_type": "display_data"
    }
   ],
   "source": [
    "# if I start when the prob is stationary\n",
    "\n",
    "burn_idx=1000\n",
    "\n",
    "\n",
    "\n",
    "sunny_day=0\n",
    "running_average=[]\n",
    "\n",
    "\n",
    "for j in range(burn_idx,N):\n",
    "    if today[j]==0:\n",
    "        sunny_day +=1\n",
    "\n",
    "    running_average.append(sunny_day/j)\n",
    "\n",
    "plt.figure()\n",
    "plt.hist(running_average,bins=300, density=True, histtype='step', label='sunny days')\n",
    "\n",
    "xx = np.linspace(0.6,0.91, 1000)\n",
    "plt.plot(xx, norm.pdf(xx, loc=np.median(running_average), scale=sigmaG(running_average)),'r-', label='norm pdf')\n",
    "plt.legend(loc='upper left')\n",
    "plt.xlim(0.75,0.9)"
   ]
  },
  {
   "cell_type": "code",
   "execution_count": null,
   "metadata": {},
   "outputs": [],
   "source": []
  }
 ],
 "metadata": {
  "kernelspec": {
   "display_name": "Python 3",
   "language": "python",
   "name": "python3"
  },
  "language_info": {
   "codemirror_mode": {
    "name": "ipython",
    "version": 3
   },
   "file_extension": ".py",
   "mimetype": "text/x-python",
   "name": "python",
   "nbconvert_exporter": "python",
   "pygments_lexer": "ipython3",
   "version": "3.8.3"
  }
 },
 "nbformat": 4,
 "nbformat_minor": 4
}
