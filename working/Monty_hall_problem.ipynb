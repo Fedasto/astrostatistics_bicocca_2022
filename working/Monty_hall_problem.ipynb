{
 "cells": [
  {
   "cell_type": "markdown",
   "metadata": {},
   "source": [
    "# Monty All Problem"
   ]
  },
  {
   "cell_type": "markdown",
   "metadata": {},
   "source": [
    "- Simulate three doors, one car, and two goats.\n",
    "- Simulate three players: the switcher, the conservative, and the newcomer.\n",
    "- Record who wins.\n",
    "- Repeat it many times.\n",
    "- Which player do you want to be?\n",
    "- What would happen if you had 100 doors to choose from and the presenter opens 98 or them?"
   ]
  },
  {
   "cell_type": "code",
   "execution_count": 1,
   "metadata": {},
   "outputs": [],
   "source": [
    "import numpy as np\n",
    "import random\n",
    "import matplotlib.pyplot as plt"
   ]
  },
  {
   "cell_type": "code",
   "execution_count": 2,
   "metadata": {},
   "outputs": [],
   "source": [
    "plt.rcParams['figure.figsize'] = [8, 8]"
   ]
  },
  {
   "cell_type": "code",
   "execution_count": 19,
   "metadata": {},
   "outputs": [
    {
     "name": "stderr",
     "output_type": "stream",
     "text": [
      "<ipython-input-19-2e286416cdde>:18: DeprecationWarning: This function is deprecated. Please call randint(0, 2 + 1) instead\n",
      "  winning_door=np.random.random_integers(0,n_door-1,n_win_door)\n",
      "<ipython-input-19-2e286416cdde>:23: DeprecationWarning: This function is deprecated. Please call randint(0, 2 + 1) instead\n",
      "  player_1=np.random.random_integers(0,n_door-1,n_win_door) # choosen door by the player 1\n"
     ]
    },
    {
     "data": {
      "image/png": "[encoded data removed]",
      "text/plain": [
       "<Figure size 432x288 with 1 Axes>"
      ]
     },
     "metadata": {
      "needs_background": "light"
     },
     "output_type": "display_data"
    }
   ],
   "source": [
    "def Selectrandom(names, size):\n",
    "    return (np.random.choice(names, size=size, replace=False))\n",
    "\n",
    "def TheGoatGame(N,n_door,n_win_door, n_open):\n",
    "\n",
    "\n",
    "\n",
    "    win=[]\n",
    "    n_win_conservative=0\n",
    "    n_win_switcher=0\n",
    "    n_win_newcamer=0\n",
    "    n_loss=0\n",
    "\n",
    "\n",
    "    for temp in range(N):\n",
    "        door=np.linspace(0,0,n_door,dtype=int) # GOAT\n",
    "\n",
    "        winning_door=np.random.random_integers(0,n_door-1,n_win_door) \n",
    "\n",
    "        door[winning_door]=1 # CAR\n",
    "\n",
    "\n",
    "        player_1=np.random.random_integers(0,n_door-1,n_win_door) # choosen door by the player 1\n",
    "        #player_2=np.random.random_integers(0,n_door-1,n_win_door) # choosen door by the player 2\n",
    "\n",
    "        #prob_win_player_1=n_win_door/n_door # the P that the first playe win is 1/3\n",
    "        #prob_win_player_2=n_win_door/n_door # the P that the second player win is 1/3\n",
    "\n",
    "\n",
    "        loosing_door=[]\n",
    "        # Here, I find the doors that contains a goat\n",
    "        for i in range(n_door):\n",
    "            if door[i]==0:\n",
    "                loosing_door.append(i)\n",
    "\n",
    "        '''opened_door=[]\n",
    "        for u in range(n_open):\n",
    "            opened_door.append(Selectrandom(loosing_door))    # index of the opened door in the loosing_door list'''\n",
    "\n",
    "        opened_door =Selectrandom(loosing_door, n_open)\n",
    "\n",
    "\n",
    "\n",
    "        remaining_door=[]\n",
    "\n",
    "\n",
    "        '''for j in range(n_door):\n",
    "            if j!=opened_door[]:\n",
    "                remaining_door.append(door[j])'''\n",
    "        cancel=0\n",
    "        remaining_door = door\n",
    "        for i in range(len(opened_door)):\n",
    "\n",
    "            remaining_door[opened_door[i]]=2\n",
    "\n",
    "\n",
    "\n",
    "\n",
    "\n",
    "\n",
    "\n",
    "        conservative=player_1\n",
    "        switcher=player_1\n",
    "        newcamer=Selectrandom(remaining_door[remaining_door!=2],1)\n",
    "\n",
    "        while switcher==player_1:\n",
    "            switcher=Selectrandom(remaining_door[remaining_door!=2],1) \n",
    "\n",
    "\n",
    "        winner=[]\n",
    "\n",
    "        if conservative==winning_door:\n",
    "            winner.append('conservative')\n",
    "            n_win_conservative+=1\n",
    "        else:\n",
    "            winner.append('switcher')\n",
    "            n_win_switcher+=1\n",
    "\n",
    "        if newcamer==switcher:\n",
    "            winner.append('newcamer')\n",
    "            n_win_newcamer+=1\n",
    "\n",
    "\n",
    "    plt.bar(['conservative','switcher','newcamer'], [n_win_conservative/N,n_win_switcher/N,n_win_newcamer/N],alpha=0.5, color='red')\n",
    "    plt.ylabel('normalized # of wins')\n",
    "    plt.hlines(n_win_door/n_door,-0.5,2.5, label=r'%1.3f' % (n_win_door/n_door), colors='black', linestyles='dotted')\n",
    "    plt.hlines((n_door-1)/n_door,-0.5,2.5, label=r'%1.3f' % ((n_door-1)/n_door),colors='black', linestyles='dotted')\n",
    "    plt.hlines(n_win_door/(n_door-n_open),-0.5,2.5,label=r'%1.3f' % (n_win_door/(n_door-n_open)),colors='black', linestyles='dotted')\n",
    "    plt.legend(loc='best')\n",
    "    plt.title('rule: %1.0f %1.0f %1.0f' %  (N,n_door,n_win_door))\n",
    "    \n",
    "TheGoatGame(1000, 3, 1, 1)"
   ]
  },
  {
   "cell_type": "code",
   "execution_count": 20,
   "metadata": {},
   "outputs": [
    {
     "name": "stderr",
     "output_type": "stream",
     "text": [
      "<ipython-input-19-2e286416cdde>:18: DeprecationWarning: This function is deprecated. Please call randint(0, 99 + 1) instead\n",
      "  winning_door=np.random.random_integers(0,n_door-1,n_win_door)\n",
      "<ipython-input-19-2e286416cdde>:23: DeprecationWarning: This function is deprecated. Please call randint(0, 99 + 1) instead\n",
      "  player_1=np.random.random_integers(0,n_door-1,n_win_door) # choosen door by the player 1\n"
     ]
    },
    {
     "data": {
      "image/png": "[encoded data removed]",
      "text/plain": [
       "<Figure size 432x288 with 1 Axes>"
      ]
     },
     "metadata": {
      "needs_background": "light"
     },
     "output_type": "display_data"
    }
   ],
   "source": [
    "TheGoatGame(1000, 100, 1, 98)"
   ]
  },
  {
   "cell_type": "markdown",
   "metadata": {},
   "source": [
    "The probability to pick a car with 3 door is 1/3\n",
    "Onece a door has been opend the remainig two door has probability 2/3 th have a car\n",
    "The new camer has 1/2 probability of win he car\n",
    "\n",
    "Increasing the number of doors we have respectivly:\n",
    "\n",
    "        - 1/# doors\n",
    "        - (# doors - 1)/ # doors\n",
    "        - 1/(# remaining doors)\n",
    "        \n",
    "Furthermore, as the N of iterations increses the probability is closest to the expected value."
   ]
  },
  {
   "cell_type": "code",
   "execution_count": null,
   "metadata": {},
   "outputs": [],
   "source": []
  }
 ],
 "metadata": {
  "kernelspec": {
   "display_name": "Python 3",
   "language": "python",
   "name": "python3"
  },
  "language_info": {
   "codemirror_mode": {
    "name": "ipython",
    "version": 3
   },
   "file_extension": ".py",
   "mimetype": "text/x-python",
   "name": "python",
   "nbconvert_exporter": "python",
   "pygments_lexer": "ipython3",
   "version": "3.8.5"
  }
 },
 "nbformat": 4,
 "nbformat_minor": 4
}
