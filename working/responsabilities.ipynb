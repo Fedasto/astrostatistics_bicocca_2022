{
 "cells": [
  {
   "cell_type": "markdown",
   "metadata": {},
   "source": [
    "# Responsabilitis\n",
    "\n",
    "Class labels are a very interesting by products of a mixture analysis.\n",
    "\n",
    "What is the probability that a given gravitational-wave event comes from a given channel? This is called \"responsiblity\" (i.e. which mode is most likely to be responsible for that piece of data). \n",
    "\n",
    "$p(j|x_i) = \\frac{a_j \\mathcal{N(\\mu_j,\\sigma_j)}}{\\sum_{j=1}^N \\alpha_j \\mathcal{N}(\\mu_j,\\sigma_j)}$\n",
    "\n",
    "\n",
    "#### At home: derive this using Bayes' rule"
   ]
  },
  {
   "cell_type": "code",
   "execution_count": 1,
   "metadata": {},
   "outputs": [],
   "source": [
    "from matplotlib import pyplot as plt\n",
    "import numpy as np\n",
    "from sklearn.mixture import GaussianMixture\n"
   ]
  },
  {
   "cell_type": "markdown",
   "metadata": {},
   "source": [
    "I compute the GM model for different values of n_components, many times. For each model I compute the AIC. Selecting the the number of components which correspond at the maximum of the AIC I have the best value for the number of components at any iteration.\n",
    "\n",
    "Responsabilities = Posterior probabilities of each mixture component for each observation"
   ]
  },
  {
   "cell_type": "code",
   "execution_count": 2,
   "metadata": {},
   "outputs": [
    {
     "name": "stdout",
     "output_type": "stream",
     "text": [
      "iteration  0 best model N=  3\n",
      "iteration  1 best model N=  3\n",
      "iteration  2 best model N=  3\n",
      "iteration  3 best model N=  3\n",
      "iteration  4 best model N=  3\n",
      "iteration  5 best model N=  3\n",
      "iteration  6 best model N=  3\n",
      "iteration  7 best model N=  3\n",
      "iteration  8 best model N=  3\n",
      "iteration  9 best model N=  3\n"
     ]
    }
   ],
   "source": [
    "# posterior = (prior x likelihood) / (marginals)\n",
    "\n",
    "data=np.load('/Users/federicoastori/Desktop/ilovegit/WORK_6/formationchannels.npy')\n",
    "\n",
    "N=np.arange(1,10)\n",
    "gmm=[]\n",
    "AIC=[]\n",
    "\n",
    "for iteration in range(10):\n",
    "    for temp in range(len(N)):\n",
    "        gmm.append(GaussianMixture(n_components=N[temp],n_init=20).fit(data))\n",
    "        AIC.append(gmm[temp].aic(data))\n",
    "        \n",
    "    print('iteration ' ,iteration , 'best model N= ', N[np.argmin(AIC)])"
   ]
  },
  {
   "cell_type": "code",
   "execution_count": null,
   "metadata": {},
   "outputs": [],
   "source": []
  }
 ],
 "metadata": {
  "kernelspec": {
   "display_name": "Python 3",
   "language": "python",
   "name": "python3"
  },
  "language_info": {
   "codemirror_mode": {
    "name": "ipython",
    "version": 3
   },
   "file_extension": ".py",
   "mimetype": "text/x-python",
   "name": "python",
   "nbconvert_exporter": "python",
   "pygments_lexer": "ipython3",
   "version": "3.8.3"
  }
 },
 "nbformat": 4,
 "nbformat_minor": 4
}
